{
 "cells": [
  {
   "cell_type": "code",
   "execution_count": 1,
   "metadata": {},
   "outputs": [],
   "source": [
    "import numpy as np \n",
    "import pandas as pd\n",
    "import statsmodels.api as sm\n",
    "import matplotlib as mpl\n",
    "import matplotlib.pyplot as plt\n",
    "import seaborn as sns\n",
    "\n",
    "from sklearn.metrics import accuracy_score\n",
    "from sklearn.linear_model import LogisticRegression\n",
    "from sklearn.linear_model import LinearRegression\n",
    "from sklearn.svm import SVC\n",
    "from sklearn.gaussian_process import GaussianProcessClassifier\n",
    "from sklearn.gaussian_process.kernels import RBF\n",
    "from sklearn.model_selection import train_test_split\n",
    "from sklearn.preprocessing import OneHotEncoder, LabelEncoder, StandardScaler, normalize, MinMaxScaler\n",
    "from sklearn.model_selection import KFold, cross_val_score, ShuffleSplit\n",
    "from sklearn.tree import DecisionTreeClassifier\n",
    "from scipy.stats import chi2_contingency"
   ]
  },
  {
   "cell_type": "markdown",
   "metadata": {},
   "source": [
    "### Load data"
   ]
  },
  {
   "cell_type": "code",
   "execution_count": 2,
   "metadata": {},
   "outputs": [],
   "source": [
    "df = pd.read_csv('result_after.csv')\n",
    "df = df.dropna()\n",
    "X = df.loc[:, df.columns != 'won']\n",
    "y = df['won']\n",
    "X = X.drop(['innings_x', 'innings_y', 'overs', 'runs', 'scorecard_no', 'season', 'country_won' ], axis=1)"
   ]
  },
  {
   "cell_type": "markdown",
   "metadata": {},
   "source": [
    "#### Label encoder"
   ]
  },
  {
   "cell_type": "code",
   "execution_count": 3,
   "metadata": {},
   "outputs": [],
   "source": [
    "labelencoder = LabelEncoder()\n",
    "label_col = ['ground', 'countries', 'bat_first_country', 'field_first_country']\n",
    "X[label_col] = X[label_col].apply(LabelEncoder().fit_transform)"
   ]
  },
  {
   "cell_type": "markdown",
   "metadata": {},
   "source": [
    "### Chi-squared test\n",
    "Have 2 approaches\n",
    "1. make a cross table, create contingency table\n",
    "2. use scipy with chi2_contingency <br>\n",
    "Now, use second approach"
   ]
  },
  {
   "cell_type": "markdown",
   "metadata": {},
   "source": [
    "#### 1. outcome - home ground"
   ]
  },
  {
   "cell_type": "code",
   "execution_count": 12,
   "metadata": {},
   "outputs": [
    {
     "data": {
      "text/html": [
       "<div>\n",
       "<style scoped>\n",
       "    .dataframe tbody tr th:only-of-type {\n",
       "        vertical-align: middle;\n",
       "    }\n",
       "\n",
       "    .dataframe tbody tr th {\n",
       "        vertical-align: top;\n",
       "    }\n",
       "\n",
       "    .dataframe thead th {\n",
       "        text-align: right;\n",
       "    }\n",
       "</style>\n",
       "<table border=\"1\" class=\"dataframe\">\n",
       "  <thead>\n",
       "    <tr style=\"text-align: right;\">\n",
       "      <th>won</th>\n",
       "      <th>0</th>\n",
       "      <th>1</th>\n",
       "      <th>2</th>\n",
       "      <th>Total</th>\n",
       "    </tr>\n",
       "    <tr>\n",
       "      <th>team_no</th>\n",
       "      <th></th>\n",
       "      <th></th>\n",
       "      <th></th>\n",
       "      <th></th>\n",
       "    </tr>\n",
       "  </thead>\n",
       "  <tbody>\n",
       "    <tr>\n",
       "      <th>1</th>\n",
       "      <td>673</td>\n",
       "      <td>1054</td>\n",
       "      <td>781</td>\n",
       "      <td>2508</td>\n",
       "    </tr>\n",
       "    <tr>\n",
       "      <th>2</th>\n",
       "      <td>1054</td>\n",
       "      <td>673</td>\n",
       "      <td>776</td>\n",
       "      <td>2503</td>\n",
       "    </tr>\n",
       "    <tr>\n",
       "      <th>Total</th>\n",
       "      <td>1727</td>\n",
       "      <td>1727</td>\n",
       "      <td>1557</td>\n",
       "      <td>5011</td>\n",
       "    </tr>\n",
       "  </tbody>\n",
       "</table>\n",
       "</div>"
      ],
      "text/plain": [
       "won         0     1     2  Total\n",
       "team_no                         \n",
       "1         673  1054   781   2508\n",
       "2        1054   673   776   2503\n",
       "Total    1727  1727  1557   5011"
      ]
     },
     "execution_count": 12,
     "metadata": {},
     "output_type": "execute_result"
    }
   ],
   "source": [
    "# make cross table with outcome and homeground, we can do more about other variable as well\n",
    "import scipy.stats as stats\n",
    "\n",
    "data_crosstab = pd.crosstab(X['team_no'],\n",
    "                            y,\n",
    "                           margins=True, margins_name=\"Total\")\n",
    "data_crosstab"
   ]
  },
  {
   "cell_type": "code",
   "execution_count": 23,
   "metadata": {},
   "outputs": [],
   "source": [
    "chi_square = 0\n",
    "rows = X['team_no'].unique()\n",
    "columns = y.unique()\n",
    "# print(rows)\n",
    "# print(columns)\n",
    "for i in columns:\n",
    "    for j in rows:\n",
    "        O = data_crosstab[i][j]\n",
    "        # print(i,j)\n",
    "        # print(O)\n",
    "        E = data_crosstab[i]['Total'] * data_crosstab['Total'][j] / data_crosstab['Total']['Total']\n",
    "        chi_square += (O-E)**2/E"
   ]
  },
  {
   "cell_type": "code",
   "execution_count": 28,
   "metadata": {},
   "outputs": [],
   "source": [
    "# significance level\n",
    "def chi_square_cal():\n",
    "    alpha = 0.05\n",
    "\n",
    "    # Calcualtion of Chisquare\n",
    "    chi_square = 0\n",
    "    rows = X['team_no'].unique()\n",
    "    columns = y.unique()\n",
    "    for i in columns:\n",
    "        for j in rows:\n",
    "            O = data_crosstab[i][j]\n",
    "            # print(i,j)\n",
    "            # print(O)\n",
    "            E = data_crosstab[i]['Total'] * data_crosstab['Total'][j] / data_crosstab['Total']['Total']\n",
    "            chi_square += (O-E)**2/E\n",
    "\n",
    "    # The p-value approach\n",
    "    print(\"Approach 1: The p-value approach to hypothesis testing in the decision rule\")\n",
    "    p_value = 1 - stats.chi2.cdf(chi_square, (len(rows)-1)*(len(columns)-1))\n",
    "    conclusion = \"Failed to reject the null hypothesis.\"\n",
    "    if p_value <= alpha:\n",
    "        conclusion = \"Null Hypothesis is rejected.\"\n",
    "            \n",
    "    print(\"chisquare-score is:\", chi_square, \" and p value is:\", p_value)\n",
    "    print(conclusion)\n",
    "        \n",
    "    # The critical value approach\n",
    "    print(\"\\n--------------------------------------------------------------------------------------\")\n",
    "    print(\"Approach 2: The critical value approach to hypothesis testing in the decision rule\")\n",
    "    critical_value = stats.chi2.ppf(1-alpha, (len(rows)-1)*(len(columns)-1))\n",
    "    conclusion = \"Failed to reject the null hypothesis.\"\n",
    "    if chi_square > critical_value:\n",
    "        conclusion = \"Null Hypothesis is rejected.\"\n",
    "            \n",
    "    print(\"chisquare-score is:\", chi_square, \" and critical value is:\", critical_value)\n",
    "    print(conclusion)"
   ]
  },
  {
   "cell_type": "code",
   "execution_count": 27,
   "metadata": {},
   "outputs": [
    {
     "name": "stdout",
     "output_type": "stream",
     "text": [
      "p-value is 1.1269696662366099e-33\n",
      "Null Hypothesis is rejected.\n",
      "Expected value:  [[ 864.36160447  864.36160447  779.27679106 2508.        ]\n",
      " [ 862.63839553  862.63839553  777.72320894 2503.        ]\n",
      " [1727.         1727.         1557.         5011.        ]]\n",
      "Degree of freedom:  6\n",
      "chi-squeared score:  168.118936092428\n"
     ]
    }
   ],
   "source": [
    "\n",
    "from scipy.stats import chi2_contingency\n",
    " \n",
    "# defining the table, get it from cross table\n",
    "# data\n",
    "stat, p, dof, expected = chi2_contingency(data_crosstab)\n",
    " \n",
    "# interpret p-value\n",
    "alpha = 0.05\n",
    "print(\"p-value is \" + str(p))\n",
    "if p <= alpha:\n",
    "    print('Null Hypothesis is rejected.')\n",
    "else:\n",
    "    print(\"Failed to reject the null hypothesis.\")\n",
    "\n",
    "print('Expected value: ', expected)\n",
    "print('Degree of freedom: ', dof)\n",
    "print('chi-squeared score: ', stat)"
   ]
  },
  {
   "cell_type": "markdown",
   "metadata": {},
   "source": [
    "### Multinomial Logistic regression"
   ]
  },
  {
   "cell_type": "code",
   "execution_count": 33,
   "metadata": {},
   "outputs": [],
   "source": [
    "X_mnl_train, X_mnl_test, y_mnl_train, y_mnl_test = train_test_split(X, y, test_size = 0.3, random_state = 1)"
   ]
  },
  {
   "cell_type": "code",
   "execution_count": 34,
   "metadata": {},
   "outputs": [
    {
     "name": "stdout",
     "output_type": "stream",
     "text": [
      "Optimization terminated successfully.\n",
      "         Current function value: 0.686289\n",
      "         Iterations 7\n",
      "                          MNLogit Regression Results                          \n",
      "==============================================================================\n",
      "Dep. Variable:                    won   No. Observations:                 3507\n",
      "Model:                        MNLogit   Df Residuals:                     3475\n",
      "Method:                           MLE   Df Model:                           30\n",
      "Date:                Mon, 02 Oct 2023   Pseudo R-squ.:                  0.3746\n",
      "Time:                        22:54:30   Log-Likelihood:                -2406.8\n",
      "converged:                       True   LL-Null:                       -3848.6\n",
      "Covariance Type:            nonrobust   LLR p-value:                     0.000\n",
      "===========================================================================================\n",
      "                  won=1       coef    std err          z      P>|z|      [0.025      0.975]\n",
      "-------------------------------------------------------------------------------------------\n",
      "const                       0.2842      0.422      0.674      0.500      -0.542       1.111\n",
      "ground                      0.0006      0.002      0.341      0.733      -0.003       0.004\n",
      "countries                  -0.0353      0.019     -1.884      0.060      -0.072       0.001\n",
      "team1_inn1                 -0.0041      0.001     -3.460      0.001      -0.006      -0.002\n",
      "team2_inn1                  0.0024      0.001      1.734      0.083      -0.000       0.005\n",
      "first_inn_lead_of_team1     0.0167      0.001     25.689      0.000       0.015       0.018\n",
      "team1_inn2                  0.0110      0.001     14.367      0.000       0.010       0.013\n",
      "team2_inn2                  0.0014      0.001      1.669      0.095      -0.000       0.003\n",
      "team1_inn1_over             0.0077      0.004      1.996      0.046       0.000       0.015\n",
      "team2_inn1_over             0.0074      0.004      1.873      0.061      -0.000       0.015\n",
      "total_day                  -0.2131      0.066     -3.220      0.001      -0.343      -0.083\n",
      "bat_first                  -0.5833      0.291     -2.006      0.045      -1.153      -0.013\n",
      "field_first                 0.6810      0.295      2.312      0.021       0.104       1.258\n",
      "bat_first_country           0.0338      0.023      1.449      0.147      -0.012       0.079\n",
      "field_first_country        -0.0396      0.034     -1.168      0.243      -0.106       0.027\n",
      "team_no                    -0.6419      0.117     -5.466      0.000      -0.872      -0.412\n",
      "-------------------------------------------------------------------------------------------\n",
      "                  won=2       coef    std err          z      P>|z|      [0.025      0.975]\n",
      "-------------------------------------------------------------------------------------------\n",
      "const                      -4.3559      0.405    -10.767      0.000      -5.149      -3.563\n",
      "ground                     -0.0014      0.001     -0.969      0.333      -0.004       0.001\n",
      "countries                  -0.0028      0.016     -0.171      0.864      -0.035       0.029\n",
      "team1_inn1                  0.0011      0.001      1.069      0.285      -0.001       0.003\n",
      "team2_inn1                  0.0053      0.001      4.288      0.000       0.003       0.008\n",
      "first_inn_lead_of_team1     0.0047      0.000     10.875      0.000       0.004       0.006\n",
      "team1_inn2                  0.0036      0.001      5.535      0.000       0.002       0.005\n",
      "team2_inn2                 -0.0057      0.001     -7.956      0.000      -0.007      -0.004\n",
      "team1_inn1_over             0.0177      0.003      5.140      0.000       0.011       0.024\n",
      "team2_inn1_over             0.0141      0.003      4.081      0.000       0.007       0.021\n",
      "total_day                   0.5538      0.060      9.258      0.000       0.437       0.671\n",
      "bat_first                  -0.7357      0.259     -2.840      0.005      -1.243      -0.228\n",
      "field_first                 0.6662      0.260      2.563      0.010       0.157       1.176\n",
      "bat_first_country           0.0349      0.021      1.697      0.090      -0.005       0.075\n",
      "field_first_country         0.0010      0.029      0.035      0.972      -0.056       0.058\n",
      "team_no                    -0.3997      0.104     -3.860      0.000      -0.603      -0.197\n",
      "===========================================================================================\n"
     ]
    }
   ],
   "source": [
    "X_mnl_train = sm.add_constant(X_mnl_train)\n",
    "mnl_log_reg_model = sm.MNLogit(y_mnl_train, X_mnl_train)\n",
    "mnl_log_reg_model = mnl_log_reg_model.fit()\n",
    "print(mnl_log_reg_model.summary())"
   ]
  },
  {
   "cell_type": "code",
   "execution_count": 52,
   "metadata": {},
   "outputs": [],
   "source": [
    "# X_mnl_train = X_mnl_train.drop(['const'], axis=1)"
   ]
  },
  {
   "cell_type": "markdown",
   "metadata": {},
   "source": [
    "#### Probability of Predicted outcome"
   ]
  },
  {
   "cell_type": "code",
   "execution_count": 53,
   "metadata": {},
   "outputs": [
    {
     "name": "stdout",
     "output_type": "stream",
     "text": [
      "Predicted Probabilities: [0.95865062 0.02394909 0.01740028]\n",
      "[[0.95865062 0.02394909 0.01740028]\n",
      " [0.29824862 0.39027372 0.31147766]\n",
      " [0.13909901 0.39402653 0.46687446]\n",
      " ...\n",
      " [0.00825486 0.69484541 0.29689973]\n",
      " [0.03115468 0.24035242 0.72849291]\n",
      " [0.06590376 0.75794126 0.17615499]]\n"
     ]
    }
   ],
   "source": [
    "model = LogisticRegression(multi_class='multinomial', solver='lbfgs', max_iter=10000)\n",
    "# fit the model on the whole dataset\n",
    "model.fit(X_mnl_train, y_mnl_train)\n",
    "# predict a multinomial probability distribution\n",
    "yhat_prob = model.predict_proba(X_mnl_test)\n",
    "# summarize the predicted probabilities\n",
    "print('Predicted Probabilities: %s' % yhat_prob[0])\n",
    "print(yhat_prob)"
   ]
  },
  {
   "cell_type": "markdown",
   "metadata": {},
   "source": [
    "#### Predicted Class outcome"
   ]
  },
  {
   "cell_type": "code",
   "execution_count": 49,
   "metadata": {},
   "outputs": [
    {
     "name": "stdout",
     "output_type": "stream",
     "text": [
      "Predicted Class: 0\n",
      "[0 1 2 ... 1 2 1]\n"
     ]
    }
   ],
   "source": [
    "# predict the class label\n",
    "yhat = model.predict(X_mnl_test)\n",
    "# summarize the predicted class\n",
    "print('Predicted Class: %d' % yhat[0])\n",
    "print(yhat)"
   ]
  },
  {
   "cell_type": "code",
   "execution_count": 65,
   "metadata": {},
   "outputs": [
    {
     "name": "stdout",
     "output_type": "stream",
     "text": [
      "Confusion Matrix\n",
      "\n",
      "[[385  48  77]\n",
      " [ 54 390  82]\n",
      " [109 104 255]]\n",
      "\n",
      "Accuracy: 0.68\n",
      "\n",
      "\n",
      "Classification Report\n",
      "\n",
      "              precision    recall  f1-score   support\n",
      "\n",
      "     Lost: 0       0.70      0.75      0.73       510\n",
      "      Won: 1       0.72      0.74      0.73       526\n",
      "    Drawn: 2       0.62      0.54      0.58       468\n",
      "\n",
      "    accuracy                           0.68      1504\n",
      "   macro avg       0.68      0.68      0.68      1504\n",
      "weighted avg       0.68      0.68      0.68      1504\n",
      "\n"
     ]
    },
    {
     "data": {
      "image/png": "[encoded data removed]",
      "text/plain": [
       "<Figure size 640x480 with 2 Axes>"
      ]
     },
     "metadata": {},
     "output_type": "display_data"
    }
   ],
   "source": [
    "# from sklearn import metrics\n",
    "from sklearn.metrics import confusion_matrix, ConfusionMatrixDisplay\n",
    "from sklearn.metrics import classification_report\n",
    "\n",
    "confusion = confusion_matrix(y_mnl_test, yhat)\n",
    "print('Confusion Matrix\\n')\n",
    "print(confusion)\n",
    "print('\\nAccuracy: {:.2f}\\n'.format(accuracy_score(y_mnl_test, yhat)))\n",
    "\n",
    "print('\\nClassification Report\\n')\n",
    "print(classification_report(y_mnl_test, yhat, target_names=['Lost: 0', 'Won: 1', 'Drawn: 2']))\n",
    "\n",
    "cm_display = ConfusionMatrixDisplay(confusion_matrix=confusion)\n",
    "cm_display.plot()\n",
    "plt.show()\n"
   ]
  },
  {
   "cell_type": "code",
   "execution_count": null,
   "metadata": {},
   "outputs": [],
   "source": []
  }
 ],
 "metadata": {
  "kernelspec": {
   "display_name": "Python 3",
   "language": "python",
   "name": "python3"
  },
  "language_info": {
   "codemirror_mode": {
    "name": "ipython",
    "version": 3
   },
   "file_extension": ".py",
   "mimetype": "text/x-python",
   "name": "python",
   "nbconvert_exporter": "python",
   "pygments_lexer": "ipython3",
   "version": "3.8.10"
  },
  "orig_nbformat": 4
 },
 "nbformat": 4,
 "nbformat_minor": 2
}
